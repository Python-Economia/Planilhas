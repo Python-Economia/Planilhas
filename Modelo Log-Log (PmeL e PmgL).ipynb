{
 "cells": [
  {
   "cell_type": "markdown",
   "metadata": {},
   "source": [
    "# Econometria utilizando Python\n",
    "## Modelo Log-Log (Modelo de Elasticidade Constante)\n",
    "\n",
    "### Pergunta:\n",
    ">Obtendo o produto marginal e o produto médio\n",
    "---\n",
    "\n",
    "Arquivo excel:  \n",
    "**Table 7_3.xls (Gujarati, Econometria básica, 5 edição, Exemplo 7.3, p. 223)**"
   ]
  },
  {
   "cell_type": "code",
   "execution_count": null,
   "metadata": {},
   "outputs": [],
   "source": [
    " '''\n",
    "Obtendo a Produtividade Média do Trabalho (PMe) e a Produtividade Marginal do Trabalho (PMgL)\n",
    "\n",
    "Resposta Baseada em:\n",
    "Livro: Econometria - Princípios, Teoria e Aplicações Práticas\n",
    "Capítulo 2: Formas Funcionais dos Modelos de Regressão\n",
    "Autor: GUJARATI, Damodar\n",
    "Tópico 2.1: MODELOS LOG-LINEAR, DUPLO-LOG OU DE ELASTICIDADE CONSTANTE (p. 29 a 32)\n",
    "\n",
    "Estamos admitindo que as hipóteses de Gauss-Markov para dados de corte transversal não estão sendo violadas:\n",
    "1) Linearidade nos parâmetros\n",
    "2) Amostragem Aleatória\n",
    "3) Colinearidade não perfeita\n",
    "4) Média Condicional zero\n",
    "5) Homocedasticidade\n",
    "\n",
    "\n",
    "Leituras Recomendadas:\n",
    "Livro: Econometria - Princípios, Teoria e Aplicações Práticas\n",
    "Autor: GUJARATI, D.\n",
    "Capítulo 2: Formas Funcionais dos Modelos de Regressão\n",
    "Tópico 2.1: MODELOS LOG-LINEAR, DUPLO-LOG OU DE ELASTICIDADE CONSTANTE (p. 29 a 32)\n",
    "\n",
    "Livro: Introdução à Econometria\n",
    "Autor: WOOLDRIDGE, J. M.\n",
    "Capítulo 6: Análise de regressão múltipla: problemas adicionais\n",
    "Tópicos: 6-4c e 6-4d: Previsão de y quando log(y) é a variável dependente (p. 229 a 233)\n",
    "\n",
    "'''"
   ]
  },
  {
   "cell_type": "code",
   "execution_count": null,
   "metadata": {},
   "outputs": [],
   "source": [
    "'''\n",
    "Modelo\n",
    "\n",
    "Ln(Y) = B0 + B2*Ln(X2) + B3*Ln(X3) + u\n",
    "\n",
    "'''"
   ]
  },
  {
   "cell_type": "code",
   "execution_count": 1,
   "metadata": {},
   "outputs": [],
   "source": [
    "import pandas as pd\n",
    "import statsmodels.formula.api as smf\n",
    "import numpy as np\n",
    "\n",
    "import sympy"
   ]
  },
  {
   "cell_type": "code",
   "execution_count": 2,
   "metadata": {},
   "outputs": [],
   "source": [
    "df = pd.read_excel('Table 7_3.xls',\n",
    "                   skiprows=[0, 1, 2, 3, 4],\n",
    "                   index_col=0,\n",
    "                   skipfooter=2)"
   ]
  },
  {
   "cell_type": "code",
   "execution_count": null,
   "metadata": {},
   "outputs": [],
   "source": [
    "df.tail(10)"
   ]
  },
  {
   "cell_type": "markdown",
   "metadata": {},
   "source": [
    "***"
   ]
  },
  {
   "cell_type": "markdown",
   "metadata": {},
   "source": [
    "1) Regressão"
   ]
  },
  {
   "cell_type": "code",
   "execution_count": 17,
   "metadata": {},
   "outputs": [
    {
     "data": {
      "text/plain": [
       "Intercept     3.887600\n",
       "np.log(X2)    0.468332\n",
       "np.log(X3)    0.521279\n",
       "dtype: float64"
      ]
     },
     "execution_count": 17,
     "metadata": {},
     "output_type": "execute_result"
    }
   ],
   "source": [
    "modelo = smf.ols('np.log(Y) ~ np.log(X2) + np.log(X3)', df)\n",
    "resultado = modelo.fit()\n",
    "resultado.params"
   ]
  },
  {
   "cell_type": "code",
   "execution_count": null,
   "metadata": {},
   "outputs": [],
   "source": [
    "'''\n",
    "Equação estimada\n",
    "Ln(Y) = 3,89 + 0,47*Ln(X2) + 0,52*Ln(X3)\n",
    "\n",
    "Y: Produto\n",
    "X2: Insumo Trabalho\n",
    "X3: Insumo Capital\n",
    "\n",
    "'''"
   ]
  },
  {
   "cell_type": "markdown",
   "metadata": {},
   "source": [
    "______"
   ]
  },
  {
   "cell_type": "code",
   "execution_count": null,
   "metadata": {},
   "outputs": [],
   "source": [
    "# Obtendo o Produto Médio do Trabalho (PMeL) e o Produto Marginal do Trabalho (PMgL)"
   ]
  },
  {
   "cell_type": "code",
   "execution_count": null,
   "metadata": {},
   "outputs": [],
   "source": [
    "'''\n",
    "Função de produção na Forma Cobb-Douglas\n",
    "Y = b1*(L**b2)*(K**b3)\n",
    "'''"
   ]
  },
  {
   "cell_type": "code",
   "execution_count": 4,
   "metadata": {},
   "outputs": [
    {
     "data": {
      "text/plain": [
       "Intercept     3.887600\n",
       "np.log(X2)    0.468332\n",
       "np.log(X3)    0.521279\n",
       "dtype: float64"
      ]
     },
     "execution_count": 4,
     "metadata": {},
     "output_type": "execute_result"
    }
   ],
   "source": [
    "resultado.params   # Ln(Y) = 3,89 + 0,47*Ln(X2) + 0,52*Ln(X3)"
   ]
  },
  {
   "cell_type": "code",
   "execution_count": 5,
   "metadata": {},
   "outputs": [],
   "source": [
    "# B1: ln(B1) = B0    --> B0: intercepto do modelo Ln(Y) = B0 + B2*Ln(X2) + B3*Ln(X3) + u; \n",
    "# Portanto: B1 = e**B0\n",
    "b0 = resultado.params['Intercept']\n",
    "b1 = np.exp(b0)\n",
    "b2 = resultado.params['np.log(X2)']\n",
    "b3 = resultado.params['np.log(X3)']\n"
   ]
  },
  {
   "cell_type": "code",
   "execution_count": 6,
   "metadata": {},
   "outputs": [
    {
     "data": {
      "text/plain": [
       "(48.793617923068695, 0.4683322045842968, 0.5212791138223225)"
      ]
     },
     "execution_count": 6,
     "metadata": {},
     "output_type": "execute_result"
    }
   ],
   "source": [
    "b1, b2, b3"
   ]
  },
  {
   "cell_type": "code",
   "execution_count": null,
   "metadata": {},
   "outputs": [],
   "source": [
    "# Função de produção estimada na Forma Cobb-Douglas \n",
    "# Y = 48.79*(L**0.47)*(K**0.52)"
   ]
  },
  {
   "cell_type": "code",
   "execution_count": 7,
   "metadata": {},
   "outputs": [],
   "source": [
    "L = sympy.Symbol('L')\n",
    "K = sympy.Symbol('K')\n",
    "Y = b1*(L**b2)*(K**b3)"
   ]
  },
  {
   "cell_type": "code",
   "execution_count": 8,
   "metadata": {},
   "outputs": [
    {
     "data": {
      "text/latex": [
       "$\\displaystyle 48.7936179230687 K^{0.521279113822323} L^{0.468332204584297}$"
      ],
      "text/plain": [
       "48.7936179230687*K**0.521279113822323*L**0.468332204584297"
      ]
     },
     "execution_count": 8,
     "metadata": {},
     "output_type": "execute_result"
    }
   ],
   "source": [
    "Y"
   ]
  },
  {
   "cell_type": "code",
   "execution_count": 25,
   "metadata": {},
   "outputs": [
    {
     "data": {
      "text/latex": [
       "$\\displaystyle 43136490.4718038$"
      ],
      "text/plain": [
       "43136490.4718038"
      ]
     },
     "execution_count": 25,
     "metadata": {},
     "output_type": "execute_result"
    }
   ],
   "source": [
    "# Obtendo o produto estimado para um determinado valor de capital e trabalho (média dos valores observados do L e do K)\n",
    "\n",
    "trabalho = df['X2'].mean()\n",
    "capital = df['X3'].mean()\n",
    "\n",
    "Y.subs({L:trabalho, K: capital})"
   ]
  },
  {
   "cell_type": "code",
   "execution_count": 32,
   "metadata": {},
   "outputs": [
    {
     "data": {
      "text/plain": [
       "43136490.47180375"
      ]
     },
     "execution_count": 32,
     "metadata": {},
     "output_type": "execute_result"
    }
   ],
   "source": [
    "# Também podemos obter o produto estimado como acima da seguinte forma:\n",
    "trabalho = df['X2'].mean()\n",
    "capital = df['X3'].mean()\n",
    "ln_valor_previsto = resultado.predict(exog={'X2':trabalho, 'X3': capital})[0]\n",
    "np.exp(ln_valor_previsto)     # euler elevado a ln_valor_previsto"
   ]
  },
  {
   "cell_type": "code",
   "execution_count": 29,
   "metadata": {},
   "outputs": [
    {
     "data": {
      "text/latex": [
       "$\\displaystyle \\frac{48.7936179230687 K^{0.521279113822323}}{L^{0.531667795415703}}$"
      ],
      "text/plain": [
       "48.7936179230687*K**0.521279113822323*L**(-0.531667795415703)"
      ]
     },
     "execution_count": 29,
     "metadata": {},
     "output_type": "execute_result"
    }
   ],
   "source": [
    "# Produto Médio do Trabalho = Y / L\n",
    "\n",
    "PmeL = Y / L\n",
    "PmeL"
   ]
  },
  {
   "cell_type": "code",
   "execution_count": 13,
   "metadata": {},
   "outputs": [
    {
     "data": {
      "text/latex": [
       "$\\displaystyle 9.18701069927664$"
      ],
      "text/plain": [
       "9.18701069927664"
      ]
     },
     "execution_count": 13,
     "metadata": {},
     "output_type": "execute_result"
    }
   ],
   "source": [
    "# Produto Médio do Trabalho para um determinado valor de capital e trabalho\n",
    "trabalho = 43617548\n",
    "capital = 2516181\n",
    "PmeL.subs({L:trabalho, K: capital})\n"
   ]
  },
  {
   "cell_type": "code",
   "execution_count": null,
   "metadata": {},
   "outputs": [],
   "source": []
  },
  {
   "cell_type": "code",
   "execution_count": null,
   "metadata": {},
   "outputs": [],
   "source": [
    "# Produto Marginal do Trabalho    "
   ]
  },
  {
   "cell_type": "code",
   "execution_count": 14,
   "metadata": {},
   "outputs": [
    {
     "data": {
      "text/latex": [
       "$\\displaystyle \\frac{22.8516226515546 K^{0.521279113822323}}{L^{0.531667795415703}}$"
      ],
      "text/plain": [
       "22.8516226515546*K**0.521279113822323*L**(-0.531667795415703)"
      ]
     },
     "execution_count": 14,
     "metadata": {},
     "output_type": "execute_result"
    }
   ],
   "source": [
    "PmgL = sympy.diff(Y, L)   # Derivada parcial de Y em relação a L\n",
    "PmgL"
   ]
  },
  {
   "cell_type": "code",
   "execution_count": 15,
   "metadata": {},
   "outputs": [
    {
     "data": {
      "text/latex": [
       "$\\displaystyle 4.30257297433175$"
      ],
      "text/plain": [
       "4.30257297433175"
      ]
     },
     "execution_count": 15,
     "metadata": {},
     "output_type": "execute_result"
    }
   ],
   "source": [
    "# Produto Marginal do Trabalho (para um dado L e K).\n",
    "# L = 43.617.548\n",
    "# K = 2.516.181\n",
    "trabalho = 43617548\n",
    "capital = 2516181\n",
    "\n",
    "PmgL.subs({L:trabalho, K: capital })"
   ]
  },
  {
   "cell_type": "code",
   "execution_count": 41,
   "metadata": {},
   "outputs": [
    {
     "data": {
      "text/plain": [
       "4.302571356296539"
      ]
     },
     "execution_count": 41,
     "metadata": {},
     "output_type": "execute_result"
    }
   ],
   "source": [
    "# Produto Marginal do Trabalho (para um dado L e K): aproximação\n",
    "# L = 43.617.548\n",
    "# K = 2.516.181\n",
    "\n",
    "trabalho = 43617548\n",
    "capital = 2516181\n",
    "ln_valor_previsto = resultado.predict(exog={'X2':trabalho, 'X3': capital})[0]\n",
    "x0 = np.exp(ln_valor_previsto)     # euler elevado a ln_valor_previsto\n",
    "\n",
    "trabalho1 = trabalho + 1\n",
    "capital = 2516181\n",
    "ln_valor_previsto = resultado.predict(exog={'X2':trabalho1, 'X3': capital})[0]\n",
    "x1 = np.exp(ln_valor_previsto)     # euler elevado a ln_valor_previsto\n",
    "\n",
    "x1 - x0"
   ]
  },
  {
   "cell_type": "markdown",
   "metadata": {},
   "source": [
    "__________"
   ]
  },
  {
   "cell_type": "code",
   "execution_count": null,
   "metadata": {},
   "outputs": [],
   "source": []
  },
  {
   "cell_type": "code",
   "execution_count": null,
   "metadata": {},
   "outputs": [],
   "source": []
  },
  {
   "cell_type": "code",
   "execution_count": null,
   "metadata": {},
   "outputs": [],
   "source": []
  },
  {
   "cell_type": "code",
   "execution_count": null,
   "metadata": {},
   "outputs": [],
   "source": []
  },
  {
   "cell_type": "code",
   "execution_count": null,
   "metadata": {},
   "outputs": [],
   "source": []
  },
  {
   "cell_type": "code",
   "execution_count": null,
   "metadata": {},
   "outputs": [],
   "source": []
  },
  {
   "cell_type": "code",
   "execution_count": null,
   "metadata": {},
   "outputs": [],
   "source": []
  },
  {
   "cell_type": "code",
   "execution_count": null,
   "metadata": {},
   "outputs": [],
   "source": [
    "\n"
   ]
  },
  {
   "cell_type": "code",
   "execution_count": null,
   "metadata": {},
   "outputs": [],
   "source": []
  },
  {
   "cell_type": "code",
   "execution_count": null,
   "metadata": {},
   "outputs": [],
   "source": []
  }
 ],
 "metadata": {
  "kernelspec": {
   "display_name": "Python 3",
   "language": "python",
   "name": "python3"
  },
  "language_info": {
   "codemirror_mode": {
    "name": "ipython",
    "version": 3
   },
   "file_extension": ".py",
   "mimetype": "text/x-python",
   "name": "python",
   "nbconvert_exporter": "python",
   "pygments_lexer": "ipython3",
   "version": "3.8.5"
  }
 },
 "nbformat": 4,
 "nbformat_minor": 4
}
