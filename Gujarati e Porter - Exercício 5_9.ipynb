{
 "cells": [
  {
   "cell_type": "markdown",
   "metadata": {},
   "source": [
    "Econometria Básica, 5 edição  \n",
    "Gujarati e Porter  \n",
    "Editora: McGrawHill e bookman\n",
    "\n",
    "Questão 5.9, p. 155  \n",
    "Arquivo: Table 5_5.xls\n",
    "\n"
   ]
  },
  {
   "cell_type": "markdown",
   "metadata": {},
   "source": [
    "(Questão apresentada de forma resumida)  \n",
    "A Tabela 5.5 apresenta dados sobre a remuneração anual dos professores (SALARY) e as despesas por aluno das escolas (SPENDING) no ano de 1985 em 50 Estados e no distrito de Columbia.  \n",
    "Estime por MQO o modelo abaixo para responder aos itens.\n",
    "***\n",
    "Modelo:\n",
    "SALARY = B1 + B2*SPENDING + u\n",
    "\n",
    "SALARY: Salário médio dos professores (em dólares)    \n",
    "SPENDING = Despesas por aluno (em dólares)"
   ]
  },
  {
   "cell_type": "code",
   "execution_count": null,
   "metadata": {},
   "outputs": [],
   "source": [
    "import pandas as pd\n",
    "import seaborn as sns\n",
    "import matplotlib.pyplot as plt\n",
    "import statsmodels.formula.api as smf\n",
    "import statsmodels.stats.stattools as sss"
   ]
  },
  {
   "cell_type": "code",
   "execution_count": null,
   "metadata": {},
   "outputs": [],
   "source": [
    "df = pd.read_excel('Table 5_5.xls',\n",
    "                   skiprows=[0, 1, 2, 3, 5])"
   ]
  },
  {
   "cell_type": "code",
   "execution_count": null,
   "metadata": {},
   "outputs": [],
   "source": [
    "df.head()"
   ]
  },
  {
   "cell_type": "code",
   "execution_count": null,
   "metadata": {},
   "outputs": [],
   "source": []
  },
  {
   "cell_type": "code",
   "execution_count": null,
   "metadata": {},
   "outputs": [],
   "source": []
  },
  {
   "cell_type": "markdown",
   "metadata": {},
   "source": [
    "a) Represente graficamente os dados e trace uma linha de regressão a olho."
   ]
  },
  {
   "cell_type": "code",
   "execution_count": null,
   "metadata": {},
   "outputs": [],
   "source": [
    "sns.regplot(x=df['SPENDING'], y=df['SALARY'], ci=None)\n",
    "plt.xlim(2000, 10000)\n",
    "plt.ylim(15000, 45000)\n",
    "plt.show()"
   ]
  },
  {
   "cell_type": "code",
   "execution_count": null,
   "metadata": {},
   "outputs": [],
   "source": []
  },
  {
   "cell_type": "code",
   "execution_count": null,
   "metadata": {},
   "outputs": [],
   "source": []
  },
  {
   "cell_type": "markdown",
   "metadata": {},
   "source": [
    "b) Estime por MQO o modelo sugerido:  \n",
    "SALARY = B1 + B2*SPENDING + u\n",
    "\n",
    "Obtenha as estimativas dos parâmetros, os erros padrão, o rquadrado, a Soma do Quadrado do Resíduos (SQR), e a Soma dos Quadrados Explicados (SQE)."
   ]
  },
  {
   "cell_type": "code",
   "execution_count": null,
   "metadata": {},
   "outputs": [],
   "source": [
    "# Cálculo da regressão\n",
    "modelo = smf.ols('SALARY ~ SPENDING', df)\n",
    "resultado = modelo.fit()"
   ]
  },
  {
   "cell_type": "code",
   "execution_count": null,
   "metadata": {},
   "outputs": [],
   "source": [
    "# Estimativas dos parâmetros\n",
    "resultado.params"
   ]
  },
  {
   "cell_type": "code",
   "execution_count": null,
   "metadata": {},
   "outputs": [],
   "source": [
    "# Erros padrão\n",
    "resultado.bse"
   ]
  },
  {
   "cell_type": "code",
   "execution_count": null,
   "metadata": {},
   "outputs": [],
   "source": [
    "# r_quadrado\n",
    "resultado.rsquared"
   ]
  },
  {
   "cell_type": "code",
   "execution_count": null,
   "metadata": {},
   "outputs": [],
   "source": [
    "# Soma do Quadrado dos Resíduos (SQR ou SSR)\n",
    "'''\n",
    "SQR = ((resultado.resid)**2).sum()\n",
    "\n",
    "ou\n",
    "\n",
    "df['residuo'] = df['SALARY'] - resultado.predict()     --> ou simplesmente: df['residuo'] = resultado.resid\n",
    "df['residuo2'] = (df['residuo'])**2\n",
    "df['residuo2'].sum()\n",
    "'''\n",
    "resultado.ssr"
   ]
  },
  {
   "cell_type": "code",
   "execution_count": null,
   "metadata": {},
   "outputs": [],
   "source": [
    "# Soma dos Quadrados Explicados (SQE ou ESS)\n",
    "'''\n",
    "ybarra = df['SALARY'].mean()\n",
    "df['ychapeu - ybarra'] = resultado.predict()-ybarra\n",
    "df['(ychapeu - ybarra)quadrado'] = df['ychapeu - ybarra']**2\n",
    "SQE = df['(ychapeu - ybarra)quadrado'].sum()\n",
    "SQE\n",
    "'''\n",
    "resultado.ess"
   ]
  },
  {
   "cell_type": "code",
   "execution_count": null,
   "metadata": {},
   "outputs": [],
   "source": []
  },
  {
   "cell_type": "markdown",
   "metadata": {},
   "source": [
    "c) Interprete os resultados da regressão. Faz sentido do ponto de vista econômico?"
   ]
  },
  {
   "cell_type": "code",
   "execution_count": null,
   "metadata": {},
   "outputs": [],
   "source": [
    "'''\n",
    "Função de Regressão de MQO\n",
    "\n",
    "SALARY = 12129,37 + 3,3076 * SPENDING\n",
    "\n",
    "'''"
   ]
  },
  {
   "cell_type": "code",
   "execution_count": null,
   "metadata": {},
   "outputs": [],
   "source": [
    "'''\n",
    "Se as despesas por aluno (SPENDING) aumentar em um dólar, espera-se que o salário dos professores aumente, em média, \n",
    "USD 3,31.\n",
    "'''"
   ]
  },
  {
   "cell_type": "code",
   "execution_count": null,
   "metadata": {},
   "outputs": [],
   "source": []
  },
  {
   "cell_type": "code",
   "execution_count": null,
   "metadata": {},
   "outputs": [],
   "source": []
  },
  {
   "cell_type": "markdown",
   "metadata": {},
   "source": [
    "d) Estabeleça um intervalo de confiança de 95% para B2.  \n",
    "   Você rejeitaria a hipótese de que o verdadeiro coeficiente angular é 3,0 (H0: B2 = 3)?"
   ]
  },
  {
   "cell_type": "code",
   "execution_count": null,
   "metadata": {},
   "outputs": [],
   "source": [
    "resultado.conf_int(alpha=0.05)"
   ]
  },
  {
   "cell_type": "code",
   "execution_count": null,
   "metadata": {},
   "outputs": [],
   "source": []
  },
  {
   "cell_type": "code",
   "execution_count": null,
   "metadata": {},
   "outputs": [],
   "source": []
  },
  {
   "cell_type": "markdown",
   "metadata": {},
   "source": [
    "e) Obtenha a média e o valor individual previsto de SALARY se as despesas por aluno (SPENDING) forem de USD 5.000,00.  \n",
    "Estabeleça também intervalos de confiança para a média real e para o valor individual de SALARY para a despesa dada."
   ]
  },
  {
   "cell_type": "code",
   "execution_count": null,
   "metadata": {
    "scrolled": true
   },
   "outputs": [],
   "source": [
    "previsao = resultado.get_prediction(exog={'SPENDING': 5000})\n",
    "previsao.summary_frame(alpha=0.05)"
   ]
  },
  {
   "cell_type": "code",
   "execution_count": null,
   "metadata": {},
   "outputs": [],
   "source": []
  },
  {
   "cell_type": "code",
   "execution_count": null,
   "metadata": {},
   "outputs": [],
   "source": [
    "'''\n",
    "Sugestão de leitura para o item e:\n",
    "1) Gujarati e Porter: Econometria Básica, 5 edição\n",
    "Capítulo 5, item 5.10, p. 145 a 148\n",
    "\n",
    "2) Wooldridge: Introdução à Econometria, 6 edição (Cengage Learning)\n",
    "Capítulo 6, item 6.4a (Intervalos de confiança de previsões), p. 224 a 228 \n",
    "(rodar exemplos 6.5 e 6.6)\n",
    "\n",
    "'''"
   ]
  },
  {
   "cell_type": "code",
   "execution_count": null,
   "metadata": {},
   "outputs": [],
   "source": []
  },
  {
   "cell_type": "code",
   "execution_count": null,
   "metadata": {},
   "outputs": [],
   "source": []
  },
  {
   "cell_type": "markdown",
   "metadata": {},
   "source": [
    "f) Como você testaria a hipótese de normalidade do termo de erro? Mostre o(s) teste(s) que usou."
   ]
  },
  {
   "cell_type": "code",
   "execution_count": null,
   "metadata": {},
   "outputs": [],
   "source": [
    "'''\n",
    "Ressalvas para a utilização do teste de normalidade de Jarque-Bera:\n",
    "- O teste JB foi concebido para amostras grandes e pode não ser apropriado para pequenas amostras;\n",
    "- Se utilizado em pequenas amostras, os resultados podem ser equivocados.\n",
    "'''\n"
   ]
  },
  {
   "cell_type": "code",
   "execution_count": null,
   "metadata": {},
   "outputs": [],
   "source": [
    "jb, p_value, s, k = sss.jarque_bera(resultado.resid)\n",
    "print(f'Estatística JB: {jb}\\nValor p: {p_value}')"
   ]
  },
  {
   "cell_type": "code",
   "execution_count": null,
   "metadata": {},
   "outputs": [],
   "source": [
    "# Teste de Jarque-Bera\n",
    "# H0: O termo de erro é normalmente distribuído (S = 0 e K = 3)\n",
    "\n"
   ]
  },
  {
   "cell_type": "code",
   "execution_count": null,
   "metadata": {},
   "outputs": [],
   "source": []
  },
  {
   "cell_type": "code",
   "execution_count": null,
   "metadata": {},
   "outputs": [],
   "source": [
    "'''\n",
    "Sugestão de leitura para o item f:\n",
    "1) Gujarati: Econometria - Princípios, Teorias e Aplicação Práticas.\n",
    "Capítulo 7, item 7.7 (Distribuição de Probabilidade do Termo de Erro), p. 158 e 159.\n",
    "\n",
    "'''"
   ]
  },
  {
   "cell_type": "code",
   "execution_count": null,
   "metadata": {},
   "outputs": [],
   "source": []
  },
  {
   "cell_type": "code",
   "execution_count": null,
   "metadata": {},
   "outputs": [],
   "source": []
  },
  {
   "cell_type": "code",
   "execution_count": null,
   "metadata": {},
   "outputs": [],
   "source": []
  },
  {
   "cell_type": "code",
   "execution_count": null,
   "metadata": {},
   "outputs": [],
   "source": []
  },
  {
   "cell_type": "code",
   "execution_count": null,
   "metadata": {},
   "outputs": [],
   "source": []
  },
  {
   "cell_type": "markdown",
   "metadata": {},
   "source": [
    "Extras"
   ]
  },
  {
   "cell_type": "code",
   "execution_count": null,
   "metadata": {},
   "outputs": [],
   "source": [
    "# item (a) da questão: forma 2 de geração de gráfico com uma linha de gressão"
   ]
  },
  {
   "cell_type": "code",
   "execution_count": null,
   "metadata": {},
   "outputs": [],
   "source": [
    "import numpy as np"
   ]
  },
  {
   "cell_type": "code",
   "execution_count": null,
   "metadata": {},
   "outputs": [],
   "source": [
    "fig, ax = plt.subplots(nrows=1, ncols=1)\n",
    "ax.scatter(x=df['SPENDING'], y=df[\"SALARY\"])\n",
    "coeficiente_linear, constante = np.polyfit(x=df['SPENDING'], y=df[\"SALARY\"], deg=1)\n",
    "ax.plot(df['SPENDING'], constante + coeficiente_linear*df['SPENDING'] )\n",
    "ax.set_xlim(2000, 10000)\n",
    "ax.set_ylim(15000, 45000)\n",
    "\n",
    "plt.show()"
   ]
  },
  {
   "cell_type": "code",
   "execution_count": null,
   "metadata": {},
   "outputs": [],
   "source": []
  },
  {
   "cell_type": "markdown",
   "metadata": {},
   "source": [
    "__________"
   ]
  },
  {
   "cell_type": "code",
   "execution_count": null,
   "metadata": {},
   "outputs": [],
   "source": [
    "# item (e) da questão"
   ]
  },
  {
   "cell_type": "code",
   "execution_count": null,
   "metadata": {},
   "outputs": [],
   "source": [
    "import scipy.stats as sst"
   ]
  },
  {
   "cell_type": "code",
   "execution_count": null,
   "metadata": {},
   "outputs": [],
   "source": [
    "'''\n",
    "Calculo do intervalo de confiança para previsão média\n",
    "Fórmulas (5.10.2) e (5.10.4),  p. 146 \n",
    "'''"
   ]
  },
  {
   "cell_type": "code",
   "execution_count": null,
   "metadata": {},
   "outputs": [],
   "source": [
    "'''\n",
    "Fórmula (5.10.2), p. 146\n",
    "var(Ychapeu0) = sigmachapeu2 * (1/n + a/b)\n",
    "sigmachapeu2 = resultado.mse_resid\n",
    "a = (X0 - Xbarra)**2\n",
    "b = soma_xi_quadrado\n",
    "'''"
   ]
  },
  {
   "cell_type": "code",
   "execution_count": null,
   "metadata": {},
   "outputs": [],
   "source": [
    "# Fórmula (5.10.2), p. 146\n",
    "n = 51   # número de observações\n",
    "sigmachapeu2 = resultado.mse_resid\n",
    "\n",
    "# Variável \"a\" da fórmula 5.10.2\n",
    "X0 = 5000\n",
    "Xbarra = df['SPENDING'].mean()\n",
    "a = (X0 - Xbarra)**2\n",
    "\n",
    "# Variável \"b\" da fórmula 5.10.2\n",
    "#xi = Xi - Xbarra\n",
    "df['xi_quadrado'] = (df['SPENDING'] - Xbarra)**2\n",
    "b = df['xi_quadrado'].sum()\n",
    "\n",
    "var_Ychapeu0 = sigmachapeu2 * (1/n + a/b)"
   ]
  },
  {
   "cell_type": "code",
   "execution_count": null,
   "metadata": {},
   "outputs": [],
   "source": [
    "# Fórmula(5.10.4), p. 146\n",
    "\n",
    "# Previsão pontual\n",
    "m = resultado.predict(exog={'SPENDING':5000})[0]"
   ]
  },
  {
   "cell_type": "code",
   "execution_count": null,
   "metadata": {},
   "outputs": [],
   "source": [
    "alpha = 0.05\n",
    "gl = resultado.df_resid\n",
    "t = sst.t.ppf(1-alpha/2, gl)\n",
    "t"
   ]
  },
  {
   "cell_type": "code",
   "execution_count": null,
   "metadata": {},
   "outputs": [],
   "source": [
    "ep = var_Ychapeu0**0.5"
   ]
  },
  {
   "cell_type": "code",
   "execution_count": null,
   "metadata": {},
   "outputs": [],
   "source": [
    "lim_inf = m - t*ep\n",
    "lim_sup = m + t*ep"
   ]
  },
  {
   "cell_type": "code",
   "execution_count": null,
   "metadata": {},
   "outputs": [],
   "source": [
    "print(f'limite inferior de confiança: {lim_inf}')\n",
    "print(f'limite superior de confiança: {lim_sup}')"
   ]
  },
  {
   "cell_type": "code",
   "execution_count": null,
   "metadata": {},
   "outputs": [],
   "source": [
    "# Verificação\n",
    "resultado.get_prediction(exog={'SPENDING':5000}).summary_frame(alpha=0.05)"
   ]
  },
  {
   "cell_type": "code",
   "execution_count": null,
   "metadata": {},
   "outputs": [],
   "source": []
  },
  {
   "cell_type": "markdown",
   "metadata": {},
   "source": [
    "_______________"
   ]
  },
  {
   "cell_type": "code",
   "execution_count": null,
   "metadata": {},
   "outputs": [],
   "source": []
  },
  {
   "cell_type": "code",
   "execution_count": null,
   "metadata": {},
   "outputs": [],
   "source": [
    "'''\n",
    "Calculo do intervalo de confiança para previsão individual\n",
    "Fórmulas (5.10.6), p. 147 e (5.10.4), p. 146\n",
    "'''"
   ]
  },
  {
   "cell_type": "code",
   "execution_count": null,
   "metadata": {},
   "outputs": [],
   "source": [
    "'''\n",
    "Formula (5.10.6), p. 147\n",
    "\n",
    "var(Y0-Ychapeu0) = sigmachapeu2 * (1 + 1/n + a/b)\n",
    "\n",
    "sigmachapeu2 = resultado.mse_resid\n",
    "a = (X0 - Xbarra)**2\n",
    "b = soma_xi_quadrado\n",
    "\n",
    "'''"
   ]
  },
  {
   "cell_type": "code",
   "execution_count": null,
   "metadata": {},
   "outputs": [],
   "source": [
    "sigmachapeu2 = resultado.mse_resid"
   ]
  },
  {
   "cell_type": "code",
   "execution_count": null,
   "metadata": {},
   "outputs": [],
   "source": [
    "# Variável \"a\" da fórmula 5.10.6\n",
    "X0 = 5000\n",
    "Xbarra = df['SPENDING'].mean()\n",
    "a = (X0 - Xbarra)**2"
   ]
  },
  {
   "cell_type": "code",
   "execution_count": null,
   "metadata": {},
   "outputs": [],
   "source": [
    "# Variável \"b\" da fórmula 5.10.6\n",
    "#xi = Xi - Xbarra\n",
    "df['xi_quadrado'] = (df['SPENDING'] - Xbarra)**2\n",
    "b = df['xi_quadrado'].sum()"
   ]
  },
  {
   "cell_type": "code",
   "execution_count": null,
   "metadata": {},
   "outputs": [],
   "source": [
    "n = 51     # Número de observações\n",
    "var = sigmachapeu2 * (1 + 1/n + a/b)"
   ]
  },
  {
   "cell_type": "code",
   "execution_count": null,
   "metadata": {},
   "outputs": [],
   "source": []
  },
  {
   "cell_type": "code",
   "execution_count": null,
   "metadata": {},
   "outputs": [],
   "source": [
    "# Fórmula(5.10.4), p. 146"
   ]
  },
  {
   "cell_type": "code",
   "execution_count": null,
   "metadata": {},
   "outputs": [],
   "source": [
    "# Previsão pontual\n",
    "m = resultado.predict(exog={'SPENDING':5000})[0]"
   ]
  },
  {
   "cell_type": "code",
   "execution_count": null,
   "metadata": {},
   "outputs": [],
   "source": [
    "alpha = 0.05\n",
    "gl = resultado.df_resid\n",
    "t = sst.t.ppf(1-alpha/2, gl)\n",
    "t"
   ]
  },
  {
   "cell_type": "code",
   "execution_count": null,
   "metadata": {},
   "outputs": [],
   "source": [
    "ep = var**0.5"
   ]
  },
  {
   "cell_type": "code",
   "execution_count": null,
   "metadata": {},
   "outputs": [],
   "source": [
    "lim_inf = m - t*ep\n",
    "lim_sup = m + t*ep"
   ]
  },
  {
   "cell_type": "code",
   "execution_count": null,
   "metadata": {},
   "outputs": [],
   "source": [
    "print(f'limite inferior de confiança: {lim_inf}')\n",
    "print(f'limite superior de confiança: {lim_sup}')"
   ]
  },
  {
   "cell_type": "code",
   "execution_count": null,
   "metadata": {},
   "outputs": [],
   "source": [
    "# Verificação\n",
    "resultado.get_prediction(exog={'SPENDING':5000}).summary_frame(alpha=0.05)"
   ]
  },
  {
   "cell_type": "code",
   "execution_count": null,
   "metadata": {},
   "outputs": [],
   "source": []
  },
  {
   "cell_type": "code",
   "execution_count": null,
   "metadata": {},
   "outputs": [],
   "source": [
    "# item (f) da questão"
   ]
  },
  {
   "cell_type": "code",
   "execution_count": null,
   "metadata": {},
   "outputs": [],
   "source": [
    "# Histograma dos resíduos\n",
    "fig, ax = plt.subplots(nrows=1, ncols=1)\n",
    "ax.hist(resultado.resid, bins=range(-4000, 6000, 500), edgecolor='black')\n",
    "ax.set_xlim(-4000, 6000)\n",
    "ax.set_ylim(0, 8)\n",
    "ax.set_yticks(range(0, 10, 2))\n",
    "plt.show()"
   ]
  }
 ],
 "metadata": {
  "kernelspec": {
   "display_name": "Python 3",
   "language": "python",
   "name": "python3"
  },
  "language_info": {
   "codemirror_mode": {
    "name": "ipython",
    "version": 3
   },
   "file_extension": ".py",
   "mimetype": "text/x-python",
   "name": "python",
   "nbconvert_exporter": "python",
   "pygments_lexer": "ipython3",
   "version": "3.8.5"
  }
 },
 "nbformat": 4,
 "nbformat_minor": 4
}
